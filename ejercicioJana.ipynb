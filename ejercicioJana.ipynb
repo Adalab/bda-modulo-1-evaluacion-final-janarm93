{
 "cells": [
  {
   "cell_type": "code",
   "execution_count": 84,
   "metadata": {},
   "outputs": [],
   "source": [
    "class TiendaOnline:\n",
    "    def __init__(self, inventario, clientes, ventas_totales):\n",
    "        self.inventario = [] #Será una lista de diccionarios. Tantos diccionarios como ítems inventario, con las claves nombre, precio y cantidad.\n",
    "        self.clientes = [] #Será una lista de diccionarios. Tantos diccionarios como clientes, que incluyan las claves nombre, email y compras (historial de compras).\n",
    "        self.ventas_totales = 0.0\n",
    "    \n",
    "    def agregar_producto (self, nombre, precio, cantidad):\n",
    "        for producto in self.inventario:\n",
    "            if producto[\"nombre\"] == nombre:\n",
    "                producto[\"cantidad\"] += cantidad\n",
    "                return\n",
    "            else:\n",
    "                self.inventario.append({\"nombre\": nombre, \"precio\": precio, \"cantidad\": cantidad})\n",
    "\n",
    "    def ver_inventario(self):\n",
    "        for producto in self.inventario:\n",
    "            print(f\"Producto: {producto['nombre']}, Precio: {producto['precio']}, Cantidad: {producto['cantidad']}\")\n",
    "\n",
    "    def buscar_producto(self, nombre):\n",
    "        for producto in self.inventario:\n",
    "            if producto[\"nombre\"] == nombre:\n",
    "                for key, value in producto.items():\n",
    "                    print(f\"Los detalles del producto son: {(key, value).title()}\")\n",
    "\n",
    "                    #Otra forma de hacerlo (la correcta?) es:\n",
    "                    # después de nombre == nombre:\n",
    "                    #   print(f\"Nombre: {producto['nombre]}, Precio: {producto['precio']}, Cantidad: {producto['cantidad']}\")\n",
    "                        # return\n",
    "\n",
    "\n",
    "    def actualizar_stock(self, nombre, cantidad):\n",
    "        for producto in self.inventario:\n",
    "            if producto[\"nombre\"] == nombre:\n",
    "                producto[\"cantidad\"] = cantidad\n",
    "            else:\n",
    "                print(f\"{nombre.capitalize()} no está en el inventario.\")\n",
    "    \n",
    "    def eliminar_producto(self, nombre):\n",
    "        for producto in self.inventario:\n",
    "            if producto[\"nombre\"] == nombre:\n",
    "                producto.pop(\"nombre\", \"precio\", \"cantidad\")\n",
    "            else:\n",
    "                print(f\"{nombre.capitalize()} no está en el inventario.\")\n",
    "    \n",
    "    def calcular_valor_inventario(self):\n",
    "        for producto in self.inventario:\n",
    "            valor_producto = producto[\"precio\"] * producto[\"cantidad\"]\n",
    "            valor_producto += valor_producto\n",
    "\n",
    "    def realizar_compra(self):\n",
    "        carrito = {}\n",
    "        producto_cliente = input(\"Introduce el nombre del producto que quieres comprar:\")\n",
    "        while producto_cliente in self.ver_inventario():\n",
    "            cantidad_cliente = int(input(\"Introduce la cantidad de productos que quieres añadir al carrito:\"))\n",
    "            carrito.append({producto_cliente: cantidad_cliente})\n",
    "            if producto_cliente == \"salir\":\n",
    "                break\n",
    "                print(\"La compra ha finalizado\")\n",
    "        coste_total_compra = carrito[cantidad_cliente] * carrito['producto_cliente']\n",
    "        print(f\"Has comprado {carrito[cantidad_cliente]} unidades de {carrito['producto_cliente']}\")\n",
    "        print(f\"El coste total es {coste_total_compra}\")"
   ]
  },
  {
   "cell_type": "code",
   "execution_count": 52,
   "metadata": {},
   "outputs": [],
   "source": [
    "zara = TiendaOnline(inventario = [{\"nombre\": \"camisa\", \"precio\": \"20$\", \"cantidad\": 50}], clientes = [{'Paula': {'email': 'paula@email.com', 'compras': 4}}], ventas_totales = 2.1)"
   ]
  },
  {
   "cell_type": "code",
   "execution_count": 58,
   "metadata": {},
   "outputs": [],
   "source": [
    "zara.agregar_producto(\"camisa\", 20, 3)"
   ]
  },
  {
   "cell_type": "code",
   "execution_count": 62,
   "metadata": {},
   "outputs": [
    {
     "data": {
      "text/plain": [
       "<__main__.TiendaOnline at 0x106e40af0>"
      ]
     },
     "execution_count": 62,
     "metadata": {},
     "output_type": "execute_result"
    }
   ],
   "source": [
    "zara"
   ]
  },
  {
   "cell_type": "code",
   "execution_count": null,
   "metadata": {},
   "outputs": [],
   "source": [
    "  if nombre in producto.keys():\n",
    "                \n",
    "                \n",
    "                producto = cantidad\n",
    "\n",
    "\n",
    "                cantidad = self.inventario[cantidad] + cantidad\n",
    "\n",
    "\n",
    "\n",
    "\n",
    "            dict.fromkeys(nombre, precio, cantidad)\n",
    "            \n",
    "\n",
    "\n",
    "        \n",
    "        \n",
    "        for i in self.inventario:\n",
    "            if key == \"nombre\":\n",
    "                nombre \n",
    "        \n",
    "        \n",
    "        for key, value in self.inventario.items():\n",
    "\n",
    "\n",
    "\n",
    "        setdefault()       "
   ]
  }
 ],
 "metadata": {
  "kernelspec": {
   "display_name": "Python 3",
   "language": "python",
   "name": "python3"
  },
  "language_info": {
   "codemirror_mode": {
    "name": "ipython",
    "version": 3
   },
   "file_extension": ".py",
   "mimetype": "text/x-python",
   "name": "python",
   "nbconvert_exporter": "python",
   "pygments_lexer": "ipython3",
   "version": "3.9.6"
  }
 },
 "nbformat": 4,
 "nbformat_minor": 2
}
