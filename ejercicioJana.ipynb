{
 "cells": [
  {
   "cell_type": "code",
   "execution_count": 10,
   "metadata": {},
   "outputs": [],
   "source": [
    "class TiendaOnline:\n",
    "    def __init__(self, inventario, clientes, ventas_totales):\n",
    "        self.inventario = [] #Será una lista de diccionarios. Tantos diccionarios como ítems inventario, con las claves nombre, precio y cantidad.\n",
    "        self.clientes = {} #Será un diccionario. Claves número cliente, valores: un diccionario con email (k): dirección email (v) y compras (k): (lista del historial de compras, v).\n",
    "        self.ventas_totales = 0.0\n",
    "    \n",
    "    def agregar_producto (self, nombre, precio, cantidad):\n",
    "        for producto in self.inventario:\n",
    "            if producto[\"nombre\"] == nombre:\n",
    "                producto[\"cantidad\"] += cantidad\n",
    "                return\n",
    "            else:\n",
    "                self.inventario.append({\"nombre\": nombre, \"precio\": precio, \"cantidad\": cantidad})\n",
    "\n",
    "    def ver_inventario(self):\n",
    "        for producto in self.inventario:\n",
    "            print(f\"Producto: {producto['nombre']}, Precio: {producto['precio']}, Cantidad: {producto['cantidad']}\")\n",
    "\n",
    "    def buscar_producto(self, nombre):\n",
    "        for producto in self.inventario:\n",
    "            if producto[\"nombre\"] == nombre:\n",
    "                for key, value in producto.items():\n",
    "                    print(f\"Los detalles del producto son: {(key, value).title()}\")\n",
    "\n",
    "                    #Otra forma de hacerlo (la correcta?) es:\n",
    "                    # después de nombre == nombre:\n",
    "                    #   print(f\"Nombre: {producto['nombre]}, Precio: {producto['precio']}, Cantidad: {producto['cantidad']}\")\n",
    "                        # return\n",
    "\n",
    "\n",
    "    def actualizar_stock(self, nombre, cantidad):\n",
    "        for producto in self.inventario:\n",
    "            if producto[\"nombre\"] == nombre:\n",
    "                producto[\"cantidad\"] = cantidad\n",
    "            else:\n",
    "                print(f\"{nombre.capitalize()} no está en el inventario.\")\n",
    "    \n",
    "    def eliminar_producto(self, nombre):\n",
    "        for producto in self.inventario:\n",
    "            if producto[\"nombre\"] == nombre:\n",
    "                producto.pop(\"nombre\", \"precio\", \"cantidad\")\n",
    "            else:\n",
    "                print(f\"{nombre.capitalize()} no está en el inventario.\")\n",
    "    \n",
    "    def calcular_valor_inventario(self):\n",
    "        for producto in self.inventario:\n",
    "            valor_producto = producto[\"precio\"] * producto[\"cantidad\"]\n",
    "            valor_producto += valor_producto\n",
    "\n",
    "    def realizar_compra(self):\n",
    "        carrito = {}\n",
    "        producto_cliente = input(\"Introduce el nombre del producto que quieres comprar:\")\n",
    "        while producto_cliente in self.ver_inventario():\n",
    "            cantidad_cliente = int(input(\"Introduce la cantidad de productos que quieres añadir al carrito:\"))\n",
    "            carrito.append({producto_cliente: cantidad_cliente})\n",
    "            if producto_cliente == \"salir\":\n",
    "                break\n",
    "                print(\"La compra ha finalizado\")\n",
    "        coste_total_compra = carrito[cantidad_cliente] * carrito['producto_cliente']\n",
    "        print(f\"Has comprado {carrito[cantidad_cliente]} unidades de {carrito['producto_cliente']}\")\n",
    "        print(f\"El coste total es {coste_total_compra}\")"
   ]
  },
  {
   "cell_type": "code",
   "execution_count": 18,
   "metadata": {},
   "outputs": [],
   "source": [
    "tienda_1 = TiendaOnline(inventario = [{\"nombre\": \"Camisa\", \"precio\": \"20$\", \"cantidad\": 40}, {\"nombre\": \"Pantalón\", \"precio\": \"30$\", \"cantidad\": 30}],\n",
    "                        clientes = {'Cliente1': {'email': 'cliente1@email.com', 'compras': []}, 'Cliente2': {'email': 'cliente2@email.com', 'compras': []}},\n",
    "                                    ventas_totales = 2.5)"
   ]
  },
  {
   "cell_type": "code",
   "execution_count": 19,
   "metadata": {},
   "outputs": [
    {
     "data": {
      "text/plain": [
       "[]"
      ]
     },
     "execution_count": 19,
     "metadata": {},
     "output_type": "execute_result"
    }
   ],
   "source": [
    "tienda_1.inventario"
   ]
  },
  {
   "cell_type": "code",
   "execution_count": null,
   "metadata": {},
   "outputs": [
    {
     "data": {
      "text/plain": [
       "{}"
      ]
     },
     "execution_count": 12,
     "metadata": {},
     "output_type": "execute_result"
    }
   ],
   "source": [
    "tienda_1.clientes"
   ]
  },
  {
   "cell_type": "code",
   "execution_count": 13,
   "metadata": {},
   "outputs": [
    {
     "data": {
      "text/plain": [
       "0.0"
      ]
     },
     "execution_count": 13,
     "metadata": {},
     "output_type": "execute_result"
    }
   ],
   "source": [
    "tienda_1.ventas_totales"
   ]
  },
  {
   "cell_type": "code",
   "execution_count": 17,
   "metadata": {},
   "outputs": [],
   "source": [
    "tienda_1.agregar_producto(\"Falda\", \"40\", 2)"
   ]
  },
  {
   "cell_type": "code",
   "execution_count": 16,
   "metadata": {},
   "outputs": [
    {
     "data": {
      "text/plain": [
       "[]"
      ]
     },
     "execution_count": 16,
     "metadata": {},
     "output_type": "execute_result"
    }
   ],
   "source": [
    "tienda_1.inventario"
   ]
  },
  {
   "cell_type": "code",
   "execution_count": 58,
   "metadata": {},
   "outputs": [],
   "source": [
    "zara.agregar_producto(\"camisa\", 20, 3)"
   ]
  },
  {
   "cell_type": "code",
   "execution_count": 62,
   "metadata": {},
   "outputs": [
    {
     "data": {
      "text/plain": [
       "<__main__.TiendaOnline at 0x106e40af0>"
      ]
     },
     "execution_count": 62,
     "metadata": {},
     "output_type": "execute_result"
    }
   ],
   "source": [
    "zara"
   ]
  },
  {
   "cell_type": "code",
   "execution_count": null,
   "metadata": {},
   "outputs": [],
   "source": [
    "  if nombre in producto.keys():\n",
    "                \n",
    "                \n",
    "                producto = cantidad\n",
    "\n",
    "\n",
    "                cantidad = self.inventario[cantidad] + cantidad\n",
    "\n",
    "\n",
    "\n",
    "\n",
    "            dict.fromkeys(nombre, precio, cantidad)\n",
    "            \n",
    "\n",
    "\n",
    "        \n",
    "        \n",
    "        for i in self.inventario:\n",
    "            if key == \"nombre\":\n",
    "                nombre \n",
    "        \n",
    "        \n",
    "        for key, value in self.inventario.items():\n",
    "\n",
    "\n",
    "\n",
    "        setdefault()       "
   ]
  }
 ],
 "metadata": {
  "kernelspec": {
   "display_name": "Python 3",
   "language": "python",
   "name": "python3"
  },
  "language_info": {
   "codemirror_mode": {
    "name": "ipython",
    "version": 3
   },
   "file_extension": ".py",
   "mimetype": "text/x-python",
   "name": "python",
   "nbconvert_exporter": "python",
   "pygments_lexer": "ipython3",
   "version": "3.9.6"
  }
 },
 "nbformat": 4,
 "nbformat_minor": 2
}
