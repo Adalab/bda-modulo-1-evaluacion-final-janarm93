{
 "cells": [
  {
   "cell_type": "code",
   "execution_count": null,
   "metadata": {},
   "outputs": [],
   "source": [
    "class TiendaOnline:\n",
    "    def __init__(self):\n",
    "        self.inventario = [] #Será una lista de diccionarios. Tantos diccionarios como ítems inventario, con las claves nombre, precio y cantidad.\n",
    "        self.clientes = {} #Será un diccionario. Claves número cliente, valores: un diccionario con email (k): dirección email (v) y compras (k): (lista del historial de compras, v).\n",
    "        self.ventas_totales = 0.0\n",
    "\n",
    "\n",
    "#1. agregar_producto\n",
    "     \n",
    "    def agregar_producto (self, nombre, precio, cantidad):\n",
    "        for producto in self.inventario:\n",
    "            if producto[\"nombre\"] == nombre:\n",
    "                producto[\"cantidad\"] += cantidad\n",
    "                return\n",
    "        # Si no ha encontrado el producto, lo añade al inventario:\n",
    "        nuevo_producto = {\"nombre\": nombre, \"precio\": precio, \"cantidad\": cantidad}\n",
    "        self.inventario.append(nuevo_producto)\n",
    "\n",
    "\n",
    "#2. ver_inventario\n",
    "\n",
    "    def ver_inventario(self):\n",
    "        for producto in self.inventario:\n",
    "            print(f\"Nombre: {producto['nombre']}, Precio: {producto['precio']}, Cantidad: {producto['cantidad']}\")\n",
    "\n",
    "\n",
    "#3. buscar_producto\n",
    "\n",
    "    def buscar_producto(self, nombre):\n",
    "        for producto in self.inventario:\n",
    "            if producto[\"nombre\"] == nombre:\n",
    "                print(f\"Nombre: {producto['nombre']}, Precio: {producto['precio']}, Cantidad: {producto['cantidad']}\")\n",
    "                return\n",
    "        print(f\"El producto {nombre} no está disponible en el inventario.\")\n",
    "\n",
    "\n",
    "#4. actualizar_stock\n",
    "\n",
    "    def actualizar_stock(self, nombre, cantidad):\n",
    "        for producto in self.inventario:\n",
    "            if producto[\"nombre\"] == nombre:\n",
    "                producto[\"cantidad\"] += cantidad\n",
    "                print(f\"El producto {nombre} ha sido actualizado a {cantidad} unidades.\")\n",
    "                return\n",
    "        print(f\"El producto {nombre} no está en el inventario.\")\n",
    "\n",
    "\n",
    "#5. eliminar_producto   \n",
    "\n",
    "    def eliminar_producto(self, nombre):\n",
    "        for producto in self.inventario:\n",
    "            if producto[\"nombre\"] == nombre:\n",
    "                self.inventario.remove(producto)\n",
    "                print(f\"El producto {nombre} ha sido eliminado.\")\n",
    "                return\n",
    "        print(f\"{nombre} no está en el inventario.\")\n",
    "\n",
    "\n",
    "#6. calcular_valor_inventario\n",
    "    \n",
    "    def calcular_valor_inventario(self):\n",
    "        for producto in self.inventario:\n",
    "            valor_producto = producto[\"precio\"] * producto[\"cantidad\"]\n",
    "            valor_inventario = 0\n",
    "            valor_producto + valor_inventario\n",
    "\n",
    "            valor_producto += valor_producto\n",
    "        print(valor_producto)\n",
    "\n",
    "\n",
    "    def realizar_compra(self):\n",
    "        carrito = {}\n",
    "        producto_cliente = input(\"Introduce el nombre del producto que quieres comprar:\")\n",
    "        while producto_cliente in self.ver_inventario():\n",
    "            cantidad_cliente = int(input(\"Introduce la cantidad de productos que quieres añadir al carrito:\"))\n",
    "            carrito.append({producto_cliente: cantidad_cliente})\n",
    "            if producto_cliente == \"salir\":\n",
    "                break\n",
    "                print(\"La compra ha finalizado\")\n",
    "        coste_total_compra = carrito[cantidad_cliente] * carrito['producto_cliente']\n",
    "        print(f\"Has comprado {carrito[cantidad_cliente]} unidades de {carrito['producto_cliente']}\")\n",
    "        print(f\"El coste total es {coste_total_compra}\")"
   ]
  },
  {
   "cell_type": "markdown",
   "metadata": {},
   "source": [
    "for key, value in producto.items():\n",
    "                    print(f\"Los detalles del producto son: {producto[key]} {producto[value]}\")"
   ]
  },
  {
   "cell_type": "code",
   "execution_count": 2,
   "metadata": {},
   "outputs": [],
   "source": [
    "#Creación objeto tienda_1.\n",
    "#Creamos el objeto tienda_1 vacío porque la definición de la clase no tiene atributos en el __init__, solo el self.\n",
    "\n",
    "tienda_1 = TiendaOnline() "
   ]
  },
  {
   "cell_type": "code",
   "execution_count": 67,
   "metadata": {},
   "outputs": [
    {
     "data": {
      "text/plain": [
       "[]"
      ]
     },
     "execution_count": 67,
     "metadata": {},
     "output_type": "execute_result"
    }
   ],
   "source": [
    "#Comprovación atributo inventario inicial:\n",
    "\n",
    "tienda_1.inventario"
   ]
  },
  {
   "cell_type": "code",
   "execution_count": 68,
   "metadata": {},
   "outputs": [
    {
     "data": {
      "text/plain": [
       "{}"
      ]
     },
     "execution_count": 68,
     "metadata": {},
     "output_type": "execute_result"
    }
   ],
   "source": [
    "#Comprovación atributo clientes inicial:\n",
    "\n",
    "tienda_1.clientes"
   ]
  },
  {
   "cell_type": "code",
   "execution_count": 69,
   "metadata": {},
   "outputs": [
    {
     "data": {
      "text/plain": [
       "0.0"
      ]
     },
     "execution_count": 69,
     "metadata": {},
     "output_type": "execute_result"
    }
   ],
   "source": [
    "#Comprovación atributo ventas_totales inicial:\n",
    "\n",
    "tienda_1.ventas_totales"
   ]
  },
  {
   "cell_type": "code",
   "execution_count": 9,
   "metadata": {},
   "outputs": [],
   "source": [
    "#Comprovación método 1:\n",
    "\n",
    "tienda_1.agregar_producto(\"Camisa\", 20, 20)\n",
    "tienda_1.agregar_producto(\"Pantalón\", 30, 30)\n",
    "tienda_1.agregar_producto(\"Zapatos\", 50, 40)"
   ]
  },
  {
   "cell_type": "code",
   "execution_count": 10,
   "metadata": {},
   "outputs": [
    {
     "name": "stdout",
     "output_type": "stream",
     "text": [
      "Nombre: Camisa, Precio: 20, Cantidad: 40\n",
      "Nombre: Zapatos, Precio: 50, Cantidad: 80\n",
      "Nombre: Pantalón, Precio: 30, Cantidad: 30\n"
     ]
    }
   ],
   "source": [
    "#Comprovación método 2:\n",
    "\n",
    "tienda_1.ver_inventario()"
   ]
  },
  {
   "cell_type": "code",
   "execution_count": 11,
   "metadata": {},
   "outputs": [
    {
     "name": "stdout",
     "output_type": "stream",
     "text": [
      "Nombre: Camisa, Precio: 20, Cantidad: 40\n",
      "El producto Falda no está disponible en el inventario.\n"
     ]
    }
   ],
   "source": [
    "#Comprovación método 3:\n",
    "\n",
    "tienda_1.buscar_producto(\"Camisa\") #Producto existente en el inventario.\n",
    "tienda_1.buscar_producto(\"Falda\") #Producto no encontrado en el inventario."
   ]
  },
  {
   "cell_type": "code",
   "execution_count": 12,
   "metadata": {},
   "outputs": [
    {
     "name": "stdout",
     "output_type": "stream",
     "text": [
      "El producto Pantalón ha sido actualizado a 6 unidades.\n",
      "El producto Sombrero no está en el inventario.\n"
     ]
    }
   ],
   "source": [
    "#Comprovación método 4:\n",
    "\n",
    "tienda_1.actualizar_stock(\"Pantalón\", 6)\n",
    "tienda_1.actualizar_stock(\"Sombrero\", 4)"
   ]
  },
  {
   "cell_type": "code",
   "execution_count": 13,
   "metadata": {},
   "outputs": [
    {
     "name": "stdout",
     "output_type": "stream",
     "text": [
      "El producto Pantalón ha sido eliminado.\n",
      "Sombrero no está en el inventario.\n"
     ]
    }
   ],
   "source": [
    "#Comprovación método 5:\n",
    "\n",
    "tienda_1.eliminar_producto(\"Pantalón\")\n",
    "tienda_1.eliminar_producto(\"Sombrero\")"
   ]
  },
  {
   "cell_type": "code",
   "execution_count": 18,
   "metadata": {},
   "outputs": [],
   "source": [
    "tienda_1.calcular_valor_inventario()"
   ]
  },
  {
   "cell_type": "code",
   "execution_count": 10,
   "metadata": {},
   "outputs": [
    {
     "ename": "TypeError",
     "evalue": "__init__() got an unexpected keyword argument 'inventario'",
     "output_type": "error",
     "traceback": [
      "\u001b[0;31m---------------------------------------------------------------------------\u001b[0m",
      "\u001b[0;31mTypeError\u001b[0m                                 Traceback (most recent call last)",
      "Cell \u001b[0;32mIn[10], line 1\u001b[0m\n\u001b[0;32m----> 1\u001b[0m tienda_1 \u001b[38;5;241m=\u001b[39m \u001b[43mTiendaOnline\u001b[49m\u001b[43m(\u001b[49m\u001b[43minventario\u001b[49m\u001b[43m \u001b[49m\u001b[38;5;241;43m=\u001b[39;49m\u001b[43m \u001b[49m\u001b[43m[\u001b[49m\u001b[43m{\u001b[49m\u001b[38;5;124;43m\"\u001b[39;49m\u001b[38;5;124;43mnombre\u001b[39;49m\u001b[38;5;124;43m\"\u001b[39;49m\u001b[43m:\u001b[49m\u001b[43m \u001b[49m\u001b[38;5;124;43m\"\u001b[39;49m\u001b[38;5;124;43mCamisa\u001b[39;49m\u001b[38;5;124;43m\"\u001b[39;49m\u001b[43m,\u001b[49m\u001b[43m \u001b[49m\u001b[38;5;124;43m\"\u001b[39;49m\u001b[38;5;124;43mprecio\u001b[39;49m\u001b[38;5;124;43m\"\u001b[39;49m\u001b[43m:\u001b[49m\u001b[43m \u001b[49m\u001b[38;5;124;43m\"\u001b[39;49m\u001b[38;5;124;43m20$\u001b[39;49m\u001b[38;5;124;43m\"\u001b[39;49m\u001b[43m,\u001b[49m\u001b[43m \u001b[49m\u001b[38;5;124;43m\"\u001b[39;49m\u001b[38;5;124;43mcantidad\u001b[39;49m\u001b[38;5;124;43m\"\u001b[39;49m\u001b[43m:\u001b[49m\u001b[43m \u001b[49m\u001b[38;5;241;43m40\u001b[39;49m\u001b[43m}\u001b[49m\u001b[43m,\u001b[49m\u001b[43m \u001b[49m\u001b[43m{\u001b[49m\u001b[38;5;124;43m\"\u001b[39;49m\u001b[38;5;124;43mnombre\u001b[39;49m\u001b[38;5;124;43m\"\u001b[39;49m\u001b[43m:\u001b[49m\u001b[43m \u001b[49m\u001b[38;5;124;43m\"\u001b[39;49m\u001b[38;5;124;43mPantalón\u001b[39;49m\u001b[38;5;124;43m\"\u001b[39;49m\u001b[43m,\u001b[49m\u001b[43m \u001b[49m\u001b[38;5;124;43m\"\u001b[39;49m\u001b[38;5;124;43mprecio\u001b[39;49m\u001b[38;5;124;43m\"\u001b[39;49m\u001b[43m:\u001b[49m\u001b[43m \u001b[49m\u001b[38;5;124;43m\"\u001b[39;49m\u001b[38;5;124;43m30$\u001b[39;49m\u001b[38;5;124;43m\"\u001b[39;49m\u001b[43m,\u001b[49m\u001b[43m \u001b[49m\u001b[38;5;124;43m\"\u001b[39;49m\u001b[38;5;124;43mcantidad\u001b[39;49m\u001b[38;5;124;43m\"\u001b[39;49m\u001b[43m:\u001b[49m\u001b[43m \u001b[49m\u001b[38;5;241;43m30\u001b[39;49m\u001b[43m}\u001b[49m\u001b[43m]\u001b[49m\u001b[43m,\u001b[49m\n\u001b[1;32m      2\u001b[0m \u001b[43m                        \u001b[49m\u001b[43mclientes\u001b[49m\u001b[43m \u001b[49m\u001b[38;5;241;43m=\u001b[39;49m\u001b[43m \u001b[49m\u001b[43m{\u001b[49m\u001b[38;5;124;43m'\u001b[39;49m\u001b[38;5;124;43mCliente1\u001b[39;49m\u001b[38;5;124;43m'\u001b[39;49m\u001b[43m:\u001b[49m\u001b[43m \u001b[49m\u001b[43m{\u001b[49m\u001b[38;5;124;43m'\u001b[39;49m\u001b[38;5;124;43memail\u001b[39;49m\u001b[38;5;124;43m'\u001b[39;49m\u001b[43m:\u001b[49m\u001b[43m \u001b[49m\u001b[38;5;124;43m'\u001b[39;49m\u001b[38;5;124;43mcliente1@email.com\u001b[39;49m\u001b[38;5;124;43m'\u001b[39;49m\u001b[43m,\u001b[49m\u001b[43m \u001b[49m\u001b[38;5;124;43m'\u001b[39;49m\u001b[38;5;124;43mcompras\u001b[39;49m\u001b[38;5;124;43m'\u001b[39;49m\u001b[43m:\u001b[49m\u001b[43m \u001b[49m\u001b[43m[\u001b[49m\u001b[43m]\u001b[49m\u001b[43m}\u001b[49m\u001b[43m,\u001b[49m\u001b[43m \u001b[49m\u001b[38;5;124;43m'\u001b[39;49m\u001b[38;5;124;43mCliente2\u001b[39;49m\u001b[38;5;124;43m'\u001b[39;49m\u001b[43m:\u001b[49m\u001b[43m \u001b[49m\u001b[43m{\u001b[49m\u001b[38;5;124;43m'\u001b[39;49m\u001b[38;5;124;43memail\u001b[39;49m\u001b[38;5;124;43m'\u001b[39;49m\u001b[43m:\u001b[49m\u001b[43m \u001b[49m\u001b[38;5;124;43m'\u001b[39;49m\u001b[38;5;124;43mcliente2@email.com\u001b[39;49m\u001b[38;5;124;43m'\u001b[39;49m\u001b[43m,\u001b[49m\u001b[43m \u001b[49m\u001b[38;5;124;43m'\u001b[39;49m\u001b[38;5;124;43mcompras\u001b[39;49m\u001b[38;5;124;43m'\u001b[39;49m\u001b[43m:\u001b[49m\u001b[43m \u001b[49m\u001b[43m[\u001b[49m\u001b[43m]\u001b[49m\u001b[43m}\u001b[49m\u001b[43m}\u001b[49m\u001b[43m,\u001b[49m\n\u001b[1;32m      3\u001b[0m \u001b[43m                                    \u001b[49m\u001b[43mventas_totales\u001b[49m\u001b[43m \u001b[49m\u001b[38;5;241;43m=\u001b[39;49m\u001b[43m \u001b[49m\u001b[38;5;241;43m2.5\u001b[39;49m\u001b[43m)\u001b[49m\n",
      "\u001b[0;31mTypeError\u001b[0m: __init__() got an unexpected keyword argument 'inventario'"
     ]
    }
   ],
   "source": [
    "tienda_1 = TiendaOnline(inventario = [{\"nombre\": \"Camisa\", \"precio\": \"20$\", \"cantidad\": 40}, {\"nombre\": \"Pantalón\", \"precio\": \"30$\", \"cantidad\": 30}],\n",
    "                        clientes = {'Cliente1': {'email': 'cliente1@email.com', 'compras': []}, 'Cliente2': {'email': 'cliente2@email.com', 'compras': []}},\n",
    "                                    ventas_totales = 2.5)"
   ]
  },
  {
   "cell_type": "code",
   "execution_count": 3,
   "metadata": {},
   "outputs": [],
   "source": [
    "tienda_1.agregar_producto(\"Falda\", \"40\", 2)"
   ]
  },
  {
   "cell_type": "code",
   "execution_count": 58,
   "metadata": {},
   "outputs": [],
   "source": [
    "zara.agregar_producto(\"camisa\", 20, 3)"
   ]
  },
  {
   "cell_type": "code",
   "execution_count": null,
   "metadata": {},
   "outputs": [],
   "source": [
    "  if nombre in producto.keys():\n",
    "                \n",
    "                \n",
    "                producto = cantidad\n",
    "\n",
    "\n",
    "                cantidad = self.inventario[cantidad] + cantidad\n",
    "\n",
    "\n",
    "\n",
    "\n",
    "            dict.fromkeys(nombre, precio, cantidad)\n",
    "            \n",
    "\n",
    "\n",
    "        \n",
    "        \n",
    "        for i in self.inventario:\n",
    "            if key == \"nombre\":\n",
    "                nombre \n",
    "        \n",
    "        \n",
    "        for key, value in self.inventario.items():\n",
    "\n",
    "\n",
    "\n",
    "        setdefault()       "
   ]
  }
 ],
 "metadata": {
  "kernelspec": {
   "display_name": "Python 3",
   "language": "python",
   "name": "python3"
  },
  "language_info": {
   "codemirror_mode": {
    "name": "ipython",
    "version": 3
   },
   "file_extension": ".py",
   "mimetype": "text/x-python",
   "name": "python",
   "nbconvert_exporter": "python",
   "pygments_lexer": "ipython3",
   "version": "3.9.6"
  }
 },
 "nbformat": 4,
 "nbformat_minor": 2
}
